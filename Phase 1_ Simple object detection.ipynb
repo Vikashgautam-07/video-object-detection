{
 "cells": [
  {
   "cell_type": "code",
   "execution_count": 1,
   "id": "9166f621",
   "metadata": {},
   "outputs": [],
   "source": [
    "import cv2\n",
    "import time"
   ]
  },
  {
   "cell_type": "code",
   "execution_count": 2,
   "id": "af835865",
   "metadata": {},
   "outputs": [
    {
     "data": {
      "text/plain": [
       "True"
      ]
     },
     "execution_count": 2,
     "metadata": {},
     "output_type": "execute_result"
    }
   ],
   "source": [
    "thres=0.5\n",
    "cap = cv2.VideoCapture(0)\n",
    "cap.set(3, 640)\n",
    "cap.set(4, 480)"
   ]
  },
  {
   "cell_type": "code",
   "execution_count": 3,
   "id": "2baadb0d",
   "metadata": {},
   "outputs": [
    {
     "name": "stdout",
     "output_type": "stream",
     "text": [
      "['person', 'bottle', 'book', 'cell phone', 'eye glasses', 'laptop', 'orange', 'chair', 'clock', 'cup', 'bicycle', 'car', 'motorcycle', 'airplane', 'bus', 'train', 'truck', 'boat', 'traffic light', 'fire hydrant', 'street sign', 'stop sign', 'parking meter', 'bench', 'bird', 'cat', 'dog', 'horse', 'sheep', 'cow', 'elephant', 'bear', 'zebra', 'giraffe', 'hat', 'backpack', 'umbrella', 'shoe', 'handbag', 'tie', 'suitcase', 'frisbee', 'skis', 'snowboard', 'sports ball', 'kite', 'baseball bat', 'baseball glove', 'skateboard', 'surfboard', 'tennis racket', 'plate', 'wine glass', 'fork', 'knife', 'spoon', 'bowl', 'banana', 'apple', 'sandwich', 'broccoli', 'carrot', 'hot dog', 'pizza', 'donut', 'cake', 'couch', 'potted plant', 'bed', 'mirror', 'dining table', 'window', 'desk', 'toilet', 'door', 'tv', 'mouse', 'remote', 'keyboard', 'microwave', 'oven', 'toaster', 'sink', 'refrigerator', 'blender', 'vase', 'scissors', 'teddy bear', 'hair drier', 'toothbrush', 'hair brush']\n"
     ]
    }
   ],
   "source": [
    "classNames = []\n",
    "classFile = 'coco.names'\n",
    "with open(classFile, 'rt') as f:\n",
    "    classNames = f.read().rstrip('\\n').split('\\n')\n",
    "print(classNames)"
   ]
  },
  {
   "cell_type": "code",
   "execution_count": 4,
   "id": "f4d72647",
   "metadata": {},
   "outputs": [],
   "source": [
    "configPath = 'ssd_mobilenet_v3_large_coco_2020_01_14.pbtxt'\n",
    "weightsPath = 'frozen_inference_graph.pb'"
   ]
  },
  {
   "cell_type": "code",
   "execution_count": 5,
   "id": "6e708f89",
   "metadata": {},
   "outputs": [
    {
     "data": {
      "text/plain": [
       "< cv2.dnn.Model 0000025F7EDA42D0>"
      ]
     },
     "execution_count": 5,
     "metadata": {},
     "output_type": "execute_result"
    }
   ],
   "source": [
    "net = cv2.dnn_DetectionModel(weightsPath, configPath)\n",
    "net.setInputSize(320, 320)\n",
    "net.setInputScale(1.0 / 127.5)\n",
    "net.setInputMean((127.5, 127.5, 127.5))\n",
    "net.setInputSwapRB(True)"
   ]
  },
  {
   "cell_type": "code",
   "execution_count": 6,
   "id": "2e8c9f70",
   "metadata": {},
   "outputs": [],
   "source": [
    "start_time = time.time()\n",
    "time_limit = 15"
   ]
  },
  {
   "cell_type": "code",
   "execution_count": 7,
   "id": "246f738e",
   "metadata": {},
   "outputs": [],
   "source": [
    "speed_start_time = time.time()\n",
    "frame_count = 0\n",
    "total_detection_time = 0"
   ]
  },
  {
   "cell_type": "code",
   "execution_count": 8,
   "id": "f3c57021",
   "metadata": {},
   "outputs": [],
   "source": [
    "fps_start_time = time.time()\n",
    "fps_frame_count = 0"
   ]
  },
  {
   "cell_type": "code",
   "execution_count": 9,
   "id": "f9093482",
   "metadata": {},
   "outputs": [
    {
     "name": "stdout",
     "output_type": "stream",
     "text": [
      "Time limit reached. Exiting.\n"
     ]
    }
   ],
   "source": [
    "while True:\n",
    "    elapsed_time = time.time() - start_time\n",
    "    if elapsed_time > time_limit:\n",
    "        print(\"Time limit reached. Exiting.\")\n",
    "        break\n",
    "        \n",
    "    success, img = cap.read()\n",
    "    if not success:\n",
    "        print(\"Error: Unable to read a frame from the video capture.\")\n",
    "        break\n",
    "\n",
    "    # Measure detection time\n",
    "    detection_start_time = time.time()\n",
    "    \n",
    "    # Detect objects\n",
    "    try:\n",
    "        classIds, confs, bbox = net.detect(img, confThreshold=thres)\n",
    "        detection_time = time.time() - detection_start_time\n",
    "        total_detection_time += detection_time\n",
    "        \n",
    "    except cv2.error as e:\n",
    "        print(f\"Error during detection: {e}\")\n",
    "        break\n",
    "\n",
    "    if len(classIds) != 0:\n",
    "        for classId, confidence, box in zip(classIds.flatten(), confs.flatten(), bbox):\n",
    "            cv2.rectangle(img, box, color=(0, 255, 0), thickness=2)\n",
    "            cv2.putText(img, classNames[classId - 1].upper(), (box[0] + 10, box[1] + 30), cv2.FONT_HERSHEY_COMPLEX, 1, (0, 255, 0), 2)\n",
    "            cv2.putText(img, str(round(confidence * 100, 2)), (box[0] + 200, box[1] + 30), cv2.FONT_HERSHEY_COMPLEX, 1, (0, 255, 0), 2)\n",
    "            \n",
    "\n",
    "\n",
    "    # Show the output\n",
    "    cv2.imshow(\"Output\", img)\n",
    "    if cv2.waitKey(1) & 0xFF == ord('q'):\n",
    "        break\n",
    "\n",
    "    frame_count += 1"
   ]
  },
  {
   "cell_type": "code",
   "execution_count": 10,
   "id": "af10772a",
   "metadata": {},
   "outputs": [],
   "source": [
    "# Release the video capture object and close windows\n",
    "cap.release()\n",
    "# time.sleep(15)\n",
    "cv2.destroyAllWindows()"
   ]
  },
  {
   "cell_type": "code",
   "execution_count": 11,
   "id": "95384597",
   "metadata": {},
   "outputs": [],
   "source": [
    "# Calculate performance metrics\n",
    "end_time = time.time()\n",
    "total_time = end_time - start_time\n",
    "fps = frame_count / total_time\n",
    "average_detection_time = total_detection_time / frame_count"
   ]
  },
  {
   "cell_type": "code",
   "execution_count": 12,
   "id": "d84610c1",
   "metadata": {},
   "outputs": [
    {
     "name": "stdout",
     "output_type": "stream",
     "text": [
      "Total Frames: 126\n",
      "Total Time: 15.47 seconds\n",
      "FPS: 8.15\n",
      "Average Detection Time: 0.0996 seconds\n"
     ]
    }
   ],
   "source": [
    "print(f\"Total Frames: {frame_count}\")\n",
    "print(f\"Total Time: {total_time:.2f} seconds\")\n",
    "print(f\"FPS: {fps:.2f}\")\n",
    "print(f\"Average Detection Time: {average_detection_time:.4f} seconds\")"
   ]
  },
  {
   "cell_type": "code",
   "execution_count": null,
   "id": "a02cb63c",
   "metadata": {},
   "outputs": [],
   "source": []
  }
 ],
 "metadata": {
  "kernelspec": {
   "display_name": "Python 3",
   "language": "python",
   "name": "python3"
  },
  "language_info": {
   "codemirror_mode": {
    "name": "ipython",
    "version": 3
   },
   "file_extension": ".py",
   "mimetype": "text/x-python",
   "name": "python",
   "nbconvert_exporter": "python",
   "pygments_lexer": "ipython3",
   "version": "3.8.8"
  }
 },
 "nbformat": 4,
 "nbformat_minor": 5
}
